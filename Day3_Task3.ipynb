{
 "cells": [
  {
   "cell_type": "code",
   "execution_count": 20,
   "metadata": {},
   "outputs": [
    {
     "name": "stdin",
     "output_type": "stream",
     "text": [
      "Enter your name B\n",
      "Enter your years of experience 12\n",
      "Enter your DOB: :YYYY-MM-DD 12-2000-1\n"
     ]
    },
    {
     "name": "stdout",
     "output_type": "stream",
     "text": [
      "time data '12-2000-1' does not match format '%Y-%m-%d'\n"
     ]
    }
   ],
   "source": [
    "from datetime import datetime\n",
    "\n",
    "def calculate_age(DOB):\n",
    "    Today = datetime.today()\n",
    "    return Today.year - DOB.year - ((Today.month, Today.day) <(DOB.month, DOB.day))\n",
    "\n",
    "\n",
    "\n",
    "try:\n",
    "    Name = input(\"Enter your name\")\n",
    "    Experience =input(\"Enter your years of experience\")\n",
    "    Birth_Date = input(\"Enter your DOB: :YYYY-MM-DD\")\n",
    "    DOB = datetime.strptime(Birth_Date, \"%Y-%m-%d\")\n",
    "    \n",
    "    age = calculate_age(DOB)  \n",
    "    print(f\"\\nHello, {Name}! You are {age} years old.\")\n",
    "    print(f\"You have {Experience} years of experience.\")\n",
    "\n",
    "except ValueError as e:\n",
    "    print(e)\n"
   ]
  },
  {
   "cell_type": "code",
   "execution_count": null,
   "metadata": {},
   "outputs": [],
   "source": []
  }
 ],
 "metadata": {
  "kernelspec": {
   "display_name": "Python 3",
   "language": "python",
   "name": "python3"
  },
  "language_info": {
   "codemirror_mode": {
    "name": "ipython",
    "version": 3
   },
   "file_extension": ".py",
   "mimetype": "text/x-python",
   "name": "python",
   "nbconvert_exporter": "python",
   "pygments_lexer": "ipython3",
   "version": "3.7.6"
  }
 },
 "nbformat": 4,
 "nbformat_minor": 4
}
