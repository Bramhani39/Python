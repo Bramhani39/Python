{
 "cells": [
  {
   "cell_type": "code",
   "execution_count": 10,
   "metadata": {},
   "outputs": [
    {
     "name": "stdout",
     "output_type": "stream",
     "text": [
      "Result of operations: [11, 20, -6, -10.4, 17.0, 11.3]\n"
     ]
    }
   ],
   "source": [
    "#Question : Given two list of numbers and another list of operations, \n",
    "#perform the operation on the list of numbers as per the operation\n",
    "\n",
    "list1 = [1, 4, -9, -5.2, 8.5, 10]\n",
    "list2 = [10, 5, -3, 2, 0.5, 1.3]\n",
    "list3 = ['+', '*', '-', '*', '/', '+']\n",
    "\n",
    "result = [] \n",
    "\n",
    "for index, operation in enumerate(list3):\n",
    "    num1 = list1[index]\n",
    "    num2 = list2[index]\n",
    "\n",
    "    if operation == '+':\n",
    "        result.append(num1 + num2)\n",
    "    elif operation == '*':\n",
    "        result.append(num1 * num2)\n",
    "    elif operation == '-':\n",
    "        result.append(num1 - num2)\n",
    "    elif operation == '/':\n",
    "        # Checking if num2 is not zero to avoid division by zero error\n",
    "        if num2 != 0:\n",
    "            result.append(num1 / num2)\n",
    "        else:\n",
    "            result.append(\"Division by zero is not allowed\")\n",
    "\n",
    "print(\"Result of operations:\", result)"
   ]
  },
  {
   "cell_type": "code",
   "execution_count": 11,
   "metadata": {},
   "outputs": [
    {
     "data": {
      "text/plain": [
       "['A', 'B', 'C', 'D', 'E', 'F', 'G', 'H', 'I', 'J']"
      ]
     },
     "execution_count": 11,
     "metadata": {},
     "output_type": "execute_result"
    }
   ],
   "source": [
    "#Create a list of 10 employees\n",
    "EmpList = ['A', 'B', 'C', 'D', 'E', 'F', 'G', 'H', 'I', 'J']\n",
    "EmpList"
   ]
  },
  {
   "cell_type": "code",
   "execution_count": 12,
   "metadata": {},
   "outputs": [
    {
     "data": {
      "text/plain": [
       "(100, 200, 300, 400, 500, 600, 700, 800, 900, 1000)"
      ]
     },
     "execution_count": 12,
     "metadata": {},
     "output_type": "execute_result"
    }
   ],
   "source": [
    "#Create tuple of salaries of these 10 employees\n",
    "SalTuple = (100,200,300,400,500,600,700,800,900,1000)\n",
    "SalTuple"
   ]
  },
  {
   "cell_type": "code",
   "execution_count": 13,
   "metadata": {},
   "outputs": [
    {
     "data": {
      "text/plain": [
       "(4, 5, 1, 4, 7, 8, 9, 2, 3, 6)"
      ]
     },
     "execution_count": 13,
     "metadata": {},
     "output_type": "execute_result"
    }
   ],
   "source": [
    "#RatingTuple\n",
    "RatingTuple = (4,5,1,4,7,8,9,2,3,6)\n",
    "RatingTuple"
   ]
  },
  {
   "cell_type": "code",
   "execution_count": 60,
   "metadata": {},
   "outputs": [
    {
     "name": "stdout",
     "output_type": "stream",
     "text": [
      "{'Employee': ['A', 'B', 'C', 'D', 'E', 'F', 'G', 'H', 'I', 'J'], 'Salary': [5.0, 14.000000000000002, 9.0, 20.0, 20.0, 20.0, 20.0, 24.0, 45.0, 70.0]}\n",
      "[('A', 5.0), ('B', 14.000000000000002), ('C', 9.0), ('D', 20.0), ('E', 20.0), ('F', 20.0), ('G', 20.0), ('H', 24.0), ('I', 45.0), ('J', 70.0)]\n"
     ]
    }
   ],
   "source": [
    "#Generate a dictionary of employees and their new salaries based on their ratings \n",
    "\n",
    "EmpList = ['A', 'B', 'C', 'D', 'E', 'F', 'G', 'H', 'I', 'J']\n",
    "SalTuple = (100,200,300,400,500,600,700,800,900,1000)\n",
    "RatingTuple = (4,5,1,4,7,8,9,2,3,6)\n",
    "\n",
    "mydictionary ={}\n",
    "UpdatedList = []\n",
    "\n",
    "for i in range(len(EmpList)):\n",
    "    rating = RatingTuple[i]\n",
    "    salary = SalTuple[i]\n",
    "    \n",
    "    if 0 >rating < 3:\n",
    "        UpdatedSal = salary\n",
    "    elif 3 >rating < 5:\n",
    "        UpdatedSal = salary* (3/100)\n",
    "    elif 5 >rating < 7:\n",
    "        UpdatedSal = salary* (5/100)\n",
    "    elif 7 >rating < 9:\n",
    "        UpdatedSal = salary* (7/100)\n",
    "    elif rating >9:\n",
    "        UpdatedSal = salary* (7/100)\n",
    "        \n",
    "    UpdatedList.append(UpdatedSal)        \n",
    "    \n",
    "NewList = list(zip(EmpList, UpdatedList))\n",
    "\n",
    "mydictionary ={\"Employee\": EmpList, \"Salary\":UpdatedList}\n",
    "\n",
    "print(mydictionary)"
   ]
  },
  {
   "cell_type": "code",
   "execution_count": null,
   "metadata": {},
   "outputs": [],
   "source": []
  }
 ],
 "metadata": {
  "kernelspec": {
   "display_name": "Python 3",
   "language": "python",
   "name": "python3"
  },
  "language_info": {
   "codemirror_mode": {
    "name": "ipython",
    "version": 3
   },
   "file_extension": ".py",
   "mimetype": "text/x-python",
   "name": "python",
   "nbconvert_exporter": "python",
   "pygments_lexer": "ipython3",
   "version": "3.7.6"
  }
 },
 "nbformat": 4,
 "nbformat_minor": 4
}
